{
 "cells": [
  {
   "cell_type": "code",
   "execution_count": null,
   "metadata": {},
   "outputs": [],
   "source": [
    "from keys import keys\n",
    "\n",
    "import matplotlib.pyplot as plt\n",
    "import plotly.graph_objects as go\n",
    "from plotly.subplots import make_subplots\n",
    "\n",
    "import json\n",
    "import pandas as pd\n",
    "import requests\n",
    "from datetime import datetime, timedelta\n",
    "\n",
    "# XE api\n",
    "from xecd_rates_client import XecdClient\n"
   ]
  },
  {
   "cell_type": "code",
   "execution_count": null,
   "metadata": {},
   "outputs": [],
   "source": [
    "class Create_DF:\n",
    "    def __init__(self, cur_original, cur_new, xecd_client):\n",
    "        self.dfs_cur = {\n",
    "            'CAD':pd.read_csv('data/articles/CAD.csv'),\n",
    "            'USD':pd.read_csv('data/articles/USD.csv'),\n",
    "            'JPY':pd.read_csv('data/articles/JPY.csv'),\n",
    "            'CNY':pd.read_csv('data/articles/CNY.csv'),\n",
    "            'EUR':pd.read_csv('data/articles/EUR.csv'),\n",
    "            'INR':pd.read_csv('data/articles/INR.csv'),\n",
    "        }\n",
    "        self.original = cur_original\n",
    "        self.new = cur_new\n",
    "        self.xecd = xecd_client\n",
    "    \n",
    "    \n",
    "    def __get_week_before_date(self,curr_date):\n",
    "        week_ago = curr_date - timedelta(days=6)\n",
    "        return week_ago\n",
    "        \n",
    "        \n",
    "    def __get_weekly_rate(self, date, fromCur, toCur):\n",
    "        xecd = self.xecd\n",
    "        sum_rates = 0\n",
    "        week_ago = self.__get_week_before_date(date)\n",
    "        rateResult = xecd.historic_rate_period(1,fromCur, toCur, str(week_ago),str(date))\n",
    "        \n",
    "        for rate in rateResult['to'][self.new]:\n",
    "            sum_rates = sum_rates + rate['mid']\n",
    "        \n",
    "        sum_rates = sum_rates / 7\n",
    "        return sum_rates\n",
    "    \n",
    "    \n",
    "    def __get_diff_sentiments(self,x,df1,df2):\n",
    "        arr_sent = []\n",
    "        for i in range(len(x)):\n",
    "            original_value = df1['score'][i]\n",
    "            new_value = df2['score'][i]\n",
    "            diff = original_value - new_value\n",
    "            arr_sent.append(diff)\n",
    "        return arr_sent\n",
    "        \n",
    "        \n",
    "    def __arr_get_sentiment_over_rate(self, x, df1, df2):\n",
    "        sent_over_rate = []\n",
    "        for i in range(len(x)):\n",
    "            diff = self.__get_diff_sentiments(x,df1,df2)\n",
    "            rate = self.__get_weekly_rate(x[i], self.original, self.new)\n",
    "            \n",
    "            value = diff[i] / rate\n",
    "            sent_over_rate.append(value)\n",
    "        return sent_over_rate\n",
    "        \n",
    "        \n",
    "    def same_day_publications(self,df):\n",
    "        df['currency'] = self.original\n",
    "        df['date'] = pd.to_datetime(df['date']) - pd.to_timedelta(7, unit='d')\n",
    "        df = df.groupby(['currency', pd.Grouper(key='date', freq='W-MON')])['score'].sum().reset_index().sort_values('date')\n",
    "        return df\n",
    "    \n",
    "    \n",
    "    def get_relation(self, original, new):\n",
    "        df_original = self.same_day_publications(self.dfs_cur[self.original])\n",
    "        df_new = self.same_day_publications(self.dfs_cur[self.new])\n",
    "        xchange = []\n",
    "        \n",
    "        if set(df_original['date']) > set(df_new['date']):\n",
    "            x = sorted(set(df_original['date']))\n",
    "        else:\n",
    "            x = sorted(set(df_new['date']))\n",
    "        \n",
    "        sent_y = self.__arr_get_sentiment_over_rate(x,df_original,df_new)\n",
    "        \n",
    "        for i in range(len(x)):\n",
    "            xchange.append(self.__get_weekly_rate(x[i],self.original,self.new))\n",
    "\n",
    "            \n",
    "        # Graphs\n",
    "        fig = make_subplots(specs=[[{\"secondary_y\": True}]])\n",
    "        fig.add_trace(go.Scatter(x=x, y=xchange, mode='lines',name='Exchange Rate',connectgaps=True),secondary_y=True)\n",
    "        fig.add_trace(go.Scatter(x=x, y=sent_y, mode='lines',name='Sentiment Over Rate',connectgaps=True))\n",
    "        fig.add_trace(go.Scatter(x=x, y=self.__get_diff_sentiments(x,df_original,df_new), mode='lines',name='Diff in Sentiment',connectgaps=True))\n",
    "        \n",
    "        fig.update_yaxes(title_text=\"Sentiment Value\", secondary_y=False)\n",
    "        fig.update_yaxes(title_text=\"Exchange Rate\", secondary_y=True)\n",
    "        fig.show()\n",
    "        \n",
    "        \n",
    "    def analyze_currencies(self):\n",
    "        self.get_relation(self.original,self.new)\n"
   ]
  },
  {
   "cell_type": "markdown",
   "metadata": {},
   "source": [
    "## Input Parameter"
   ]
  },
  {
   "cell_type": "code",
   "execution_count": null,
   "metadata": {},
   "outputs": [],
   "source": [
    "news_api_key = keys['news']\n",
    "json_google_cloud = keys['json_google_cloud']\n",
    "xecd_client = keys['xe']\n",
    "rapid_api_host = keys['rapid_api_host']\n",
    "rapid_api_key = keys['rapid_api_key']"
   ]
  },
  {
   "cell_type": "code",
   "execution_count": null,
   "metadata": {},
   "outputs": [],
   "source": [
    "print(\"Enter the original currency: \")\n",
    "cur_original = input()\n",
    "\n",
    "print(\"Enter the new currency: \")\n",
    "cur_return = input()"
   ]
  },
  {
   "cell_type": "markdown",
   "metadata": {},
   "source": [
    "## Create Dataframe"
   ]
  },
  {
   "cell_type": "code",
   "execution_count": null,
   "metadata": {},
   "outputs": [],
   "source": [
    "created_df = Create_DF(cur_original, cur_return, xecd_client)"
   ]
  },
  {
   "cell_type": "code",
   "execution_count": null,
   "metadata": {
    "scrolled": true
   },
   "outputs": [],
   "source": [
    "df = pd.read_csv('data/articles/USD.csv')\n",
    "df1 = created_df.analyze_currencies()"
   ]
  }
 ],
 "metadata": {
  "kernelspec": {
   "display_name": "Python 3",
   "language": "python",
   "name": "python3"
  },
  "language_info": {
   "codemirror_mode": {
    "name": "ipython",
    "version": 3
   },
   "file_extension": ".py",
   "mimetype": "text/x-python",
   "name": "python",
   "nbconvert_exporter": "python",
   "pygments_lexer": "ipython3",
   "version": "3.7.3"
  }
 },
 "nbformat": 4,
 "nbformat_minor": 2
}
