{
 "cells": [
  {
   "cell_type": "code",
   "execution_count": 3,
   "metadata": {},
   "outputs": [
    {
     "name": "stdout",
     "output_type": "stream",
     "text": [
      "Requirement already satisfied: newsapi-python in c:\\users\\breadwards\\anaconda3\\lib\\site-packages (0.2.5)\n",
      "Requirement already satisfied: requests==2.21.0 in c:\\users\\breadwards\\anaconda3\\lib\\site-packages (from newsapi-python) (2.21.0)\n",
      "Requirement already satisfied: certifi>=2017.4.17 in c:\\users\\breadwards\\anaconda3\\lib\\site-packages (from requests==2.21.0->newsapi-python) (2019.3.9)\n",
      "Requirement already satisfied: chardet<3.1.0,>=3.0.2 in c:\\users\\breadwards\\anaconda3\\lib\\site-packages (from requests==2.21.0->newsapi-python) (3.0.4)\n",
      "Requirement already satisfied: idna<2.9,>=2.5 in c:\\users\\breadwards\\anaconda3\\lib\\site-packages (from requests==2.21.0->newsapi-python) (2.8)\n",
      "Requirement already satisfied: urllib3<1.25,>=1.21.1 in c:\\users\\breadwards\\anaconda3\\lib\\site-packages (from requests==2.21.0->newsapi-python) (1.24.1)\n",
      "Note: you may need to restart the kernel to use updated packages.\n"
     ]
    }
   ],
   "source": []
  },
  {
   "cell_type": "code",
   "execution_count": 43,
   "metadata": {},
   "outputs": [
    {
     "name": "stdout",
     "output_type": "stream",
     "text": [
      "[['2019-08-23', \"Murder Suspect Caught After AI Detected Victim's Face When Used to Apply for Online Loan An online lending company tipped off police to a suspected murder after a man allegedly tried to scan his dead girlfriend’s face. Read more... An online lending company tipped off police to a suspected murder after a man allegedly tried to scan his dead girlfriends face. \\r\\nWhen police found the 29-year-old man in southeast China, he was reportedly attempting to burn the womans body on a farm, accord… [+1404 chars]\"], ['2019-09-12', 'Silver Gains Ground, CPI Slips - FX Empire Silver Gains Ground, CPI Slips FX Empire U.S. Core Inflation Exceeds Forecasts as Medical-Care Costs Jump Bloomberg US Consumer Price Index CPI August 2019 CNBC Cheaper gasoline caps U.S. consumer inflation in August, but price pressures appear to be rising M… Silver\\xa0has gained ground on Thursday. In the North American session, XAG/USD is trading at $18.33, up 1.2% on the day.\\xa0 These are the strongest gains we’ve seen in a week and could signal a breakout for the metal.\\r\\nCPI Within Expectations, Retail Sales Next\\r\\n… [+1562 chars]'], ['2019-08-15', \"Four more DualShock 4 controllers are coming in September You can pick up four new DualShock 4 controllers starting shortly in September What you need to know PlayStation Blog has revealed four more DualShock 4 color variations. The four new controllers are: Electric Purple, Red Camouflage, Titanium Blue and Rose Go… <ul><li>PlayStation Blog has revealed four more DualShock 4 color variations.</li><li>The four new controllers are: Electric Purple, Red Camouflage, Titanium Blue and Rose Gold. </li><li>These four controllers don't have an exact release date but will be avai… [+2037 chars]\"], ['2019-09-09', 'Volkswagen unveils its first ID electric car, and it\\'s reasonably priced Volkswagen isn\\'t new to electric vehicles, but at the Frankfurt Motor Show in Germany on Monday, the German carmaker unveiled the first in its series of battery-powered cars based on VW\\'s new MEB — which means \"modular electric drive matrix\" — platform. The I… Volkswagen isn\\'t new to electric vehicles, but at the Frankfurt Motor Show in Germany on Monday, the German carmaker unveiled the first in its series of battery-powered cars based on VW\\'s new MEB which means\\xa0\"modular electric drive matrix\" platform.\\r\\nThe ID.3… [+2070 chars]'], ['2019-09-01', \"18 Years Later, We've Got The Perfect Halo Action Figure There have been a lot of Halo figures over the years, but this new one by 1000toys is easily my favourite. Based on Master Chief’s original Halo 1 design, but also tweaked by Japanese mech designer Izmojuki, it’s 1/12 scale and costs....USD$125. Read more... There have been a lot of Halo figures over the years, but this new one by 1000toys is easily my favourite. Based on Master Chiefs original Halo 1 design, but also tweaked by Japanese mech designer Izmojuki, its 1/12 scale and costs....USD$125.\\r\\nThats a lot fo… [+569 chars]\"], ['2019-09-12', 'Dissecting the TL-WR841N For Fun and Profit The TP-Link TL-WR841N isn’t a particularly impressive piece of hardware, but since it works decently well and sells for under $20 USD, it’s one of the most popular consumer routers on Amazon. Now, thanks to [TrendyTofu] of the Zero Day Initiative, we now have… The TP-Link TL-WR841N isn’t a particularly impressive piece of hardware, but since it works decently well and sells for under $20 USD, it’s one of the most popular consumer routers on Amazon. Now, thanks to [TrendyTofu] of the Zero Day Initiative, we now have… [+2057 chars]'], ['2019-09-10', 'Apple TV+ finally gets its price: $4.99 per month - Yahoo Canada Finance Apple TV+ finally gets its price: $4.99 per month Yahoo Canada Finance Apple TV+ streaming service will launch on November 1 MobileSyrup Apple prices TV+ video service at $5.99 a month, undercutting Netflix BNNBloomberg.ca Apple Arcade Launches September 19 a… Since Apple (AAPL) first announced its big push into original programming at a star-studded event in March, questions have followed. Wells Fargo wrote in March that the event leaves us/investors with more questions than answers.\\r\\nOn Tuesday at its big event i… [+3051 chars]'], ['2019-08-15', \"Get a physical edition of Wargroove for the PlayStation 4 At some point soon, you'll be able to grab a physical version of Wargroove for the PlayStation 4. What you need to know Chucklefish have announced a physical version of Wargroove coming sometime in the future. Titled Wargroove Deluxe Edition, this special ver… Chucklefish, the developers of Wargroove, announced that there's a physical version of Wargroove coming to the PlayStation 4. Titled Wargroove Deluxe Edition, it includes a fair few bonuses. Chucklefish partnered with Sold Out to produce this physical version… [+1190 chars]\"], ['2019-09-03', \"Scammer Successfully Deepfaked CEO's Voice To Fool Underling Into Transferring $243,000 The CEO of an energy firm based in the UK thought he was following his boss’s urgent orders in March when he transferred funds to a third-party. But the request actually came from the AI-assisted voice of a fraudster. Read more... The CEO of an energy firm based in the UK thought he was following his bosss urgent orders in March when he transferred funds to a third-party. But the request actually came from the AI-assisted voice of a fraudster.\\r\\nThe Wall Street Journal reports that the … [+2560 chars]\"], ['2019-08-20', \"Yakuza Remastered Collection available today digitally on PS4 The Dragon of Dojima arises in the Yakuza Remastered Collecton, coming to the West starting today What you need to know Sega has announced the Yakuza Remastered Collection for PlayStation 4. The collection brings Yakuza 3, Yakuza 4 and Yakuza 5's remastered v… <ul><li>Sega has announced the Yakuza Remastered Collection for PlayStation 4.</li><li>The collection brings Yakuza 3, Yakuza 4 and Yakuza 5's remastered versions to the West. </li><li>Yakuza 3 remastered is available to play today, Yakuza 4 unlocks on Octobe… [+1477 chars]\"], ['2019-09-05', \"Acer Reveals a $14,000 USD Gaming Chair Acer's Predator gaming line just received another gaming throne — the Predator Thronos Air Gaming Chair.Though the tech company calls it a chair, it's more of an all-in-one gaming station. Modelled after its previously-announced $30,000 Predator Thronos, the … Acer‘s Predator gaming line just received another gaming throne the Predator Thronos Air Gaming Chair.\\r\\nThough the tech company calls it a chair, it’s more of an all-in-one gaming station. Modelled after its previously-announced $30,000 Predator Thronos, the … [+816 chars]\"], ['2019-09-06', 'YouTuber Reported To Police For Saying Powerful Soccer Executive Looks Like A Doraemon Character Spain’s AuronPlay is one of the biggest video game YouTubers out there, with almost 20 million subscribers. He’s revealed this week that in 2018 he became the subject of a hilarious police complaint by Josep Bartomeu, the president of Barcelona FC, arguably t… Spains AuronPlay is one of the biggest video game YouTubers out there, with almost 20 million subscribers. Hes revealed this week that in 2018 he became\\xa0the subject of a hilarious police complaint by Josep Bartomeu, the president of Barcelona FC, arguably the… [+1194 chars]'], ['2019-09-13', 'Element AI raises $151 million to bring AI to more enterprises Element AI, a Canadian company that builds AI tools for enterprises, has raised $151 million in a series B round of funding. Element AI, a company that builds artificial intelligence (AI) tools for enterprises, has raised CAD $200 million (USD $151 million) in a series B round of funding from a host of existing and new investors, including Gouvernement du Québec, Data Collective (D… [+3117 chars]'], ['2019-09-03', 'What it Costs to Send Money Internationally With Wire Transfer Apps For ages, it seemed like you had two options for sending money internationally: Wait in line at a Western Union counter, or wait in line at a MoneyGram counter. But the rise of peer-to-peer payment apps means there are more options for sending money across th… For ages, it seemed like you had two options for sending money internationally: Wait in line at a Western Union counter, or wait in line at a MoneyGram counter. But the rise of peer-to-peer payment apps means there are more options for sending money across th… [+6268 chars]'], ['2019-08-14', 'This shop can fit your new GR Supra with a manual gearbox - AutoIndustriya.com This shop can fit your new GR Supra with a manual gearbox AutoIndustriya.com Diesel Toyota Supra Has Mercedes-Benz Straight-Six, Can Do Massive Burnouts autoevolution Someone Stuffed a Mercedes-Benz Diesel Engine Into a MK4 Toyota Supra Because Why Not The Dr… With the release of the new A90 Toyota GR Supra, perhaps the biggest gripe of Supra fans across the globe (apart from its shared manufacturing with BMW) is the fact that it will never come out with a manual transmission option.\\r\\nDespite most fans hoping that … [+1585 chars]'], ['2019-09-06', 'Bitcoin whale moves gooch-tingling ONE BILLION DOLLARS A cryptocurrency whale has moved a ball-twisting 94,504 BTC (worth over one billion dollars) — paying just $700 in Bitcoin network fees.           94,504 #BTC (1,018,147,922 USD) transferred from unknown wallet to unknown wallet Tx: https:… A cryptocurrency whale has moved a ball-twisting 94,504 BTC (worth over\\xa0one billion dollars)\\xa0 paying just\\xa0$700 in Bitcoin BTC network fees.\\r\\n 94,504 #BTC (1,018,147,922 USD) transferred from unknown wallet to unknown wallet\\r\\nTx: https://t.co/VWb8slswa8\\r\\n Whal… [+1231 chars]'], ['2019-08-16', 'LED Driver Board Could Be Your Ticket To FPGA Development Microcontrollers are a great way to learn about developing for embedded systems. However, once you outgrow their capabilities, FPGAs bring muscle that’s hard for even the fastest-clocked micros to match. If you’re doing anything with high-speed signals, loads… Microcontrollers are a great way to learn about developing for embedded systems. However, once you outgrow their capabilities, FPGAs bring muscle that’s hard for even the fastest-clocked micros to match. If you’re doing anything with high-speed signals, loads… [+1204 chars]'], ['2019-09-04', 'Tamron SP 35mm F1.4 di USD sample gallery $(document).ready(function() { SampleGalleryV2({\"containerId\":\"embeddedSampleGallery_6810541835\",\"galleryId\":\"6810541835\",\"isEmbeddedWidget\":true,\"selectedImageIndex\":0,\"isMobile\":false}) }); We\\'ve been shooting around with the new Tamron SP 35mm F1.4, a lens… We\\'ve been shooting around with Tamron\\'s new SP 35mm F1.4, a lens the brand recently referred to as its \"finest ever,\" and we can see why. See for yourself.\\r\\nAimed at consumers, Yuneec announced its Mantis G drone at Tuesday\\'s InterDrone conference. The porta… [+4806 chars]'], ['2019-08-24', 'Thom Browne Releases $12,000 USD Coat Made from Ties Thom Browne has just released a long coat made from dozens of skinny ties. The creative take on outerwear sees the slim ties stitched together over the body of the coat for a patchwork effect.The ties arrive in herringbone, striped, and checked patterns, with… None'], ['2019-09-03', 'MAD Paris Crafts $200k USD Black Patek Philippe Nautilus 5712 MAD Paris has crafted a $203,417 USD Patek Philippe Nautilus 5712 in black for the latest addition to its line of limited-edition timepieces.The stealthy watch was made in Switzerland and features a rounded octagonal face that is dressed in a blue embossed hu… MAD Paris has crafted a $203,417 USD Patek Philippe Nautilus 5712 in black for the latest addition to its line of limited-edition timepieces.\\r\\nThe stealthy watch was made in Switzerland and features a rounded octagonal face that is dressed in a blue embossed … [+785 chars]']]\n"
     ]
    }
   ],
   "source": [
    "from newsapi import NewsApiClient\n",
    "\n",
    "# Init\n",
    "newsapi = NewsApiClient(api_key='a93fd9a824b848bca3436e761c5a0d4d')\n",
    "\n",
    "# /v2/everything\n",
    "all_articles = newsapi.get_everything(q='USD', from_param='2019-08-14', to='2019-09-13', language='en', sort_by='relevancy')\n",
    "articles = all_articles['articles']\n",
    "formatted_articles = []\n",
    "for article in articles:\n",
    "     article_arr = []\n",
    "     article_arr.append(article['publishedAt'][:10])\n",
    "     info = str(article['title']) + \" \" + str(article['description']) + \" \" + str(article['content'])\n",
    "     article_arr.append(info)\n",
    "     formatted_articles.append(article_arr)\n",
    "print(formatted_articles)"
   ]
  },
  {
   "cell_type": "code",
   "execution_count": 44,
   "metadata": {},
   "outputs": [
    {
     "name": "stdout",
     "output_type": "stream",
     "text": [
      "Collecting virtualenv\n",
      "  Downloading https://files.pythonhosted.org/packages/8b/12/8d4f45b8962b03ac9efefe5ed5053f6b29334d83e438b4fe379d21c0cb8e/virtualenv-16.7.5-py2.py3-none-any.whl (3.3MB)\n",
      "Installing collected packages: virtualenv\n",
      "Successfully installed virtualenv-16.7.5\n",
      "Note: you may need to restart the kernel to use updated packages.\n"
     ]
    }
   ],
   "source": [
    "pip install --upgrade "
   ]
  },
  {
   "cell_type": "code",
   "execution_count": 46,
   "metadata": {},
   "outputs": [
    {
     "name": "stdout",
     "output_type": "stream",
     "text": [
      "Requirement already up-to-date: google-cloud-language in c:\\users\\breadwards\\anaconda3\\lib\\site-packages (1.3.0)\n",
      "Requirement already satisfied, skipping upgrade: google-api-core[grpc]<2.0.0dev,>=1.14.0 in c:\\users\\breadwards\\anaconda3\\lib\\site-packages (from google-cloud-language) (1.14.2)\n",
      "Requirement already satisfied, skipping upgrade: google-auth<2.0dev,>=0.4.0 in c:\\users\\breadwards\\anaconda3\\lib\\site-packages (from google-api-core[grpc]<2.0.0dev,>=1.14.0->google-cloud-language) (1.6.3)\n",
      "Requirement already satisfied, skipping upgrade: pytz in c:\\users\\breadwards\\anaconda3\\lib\\site-packages (from google-api-core[grpc]<2.0.0dev,>=1.14.0->google-cloud-language) (2018.9)\n",
      "Requirement already satisfied, skipping upgrade: six>=1.10.0 in c:\\users\\breadwards\\anaconda3\\lib\\site-packages (from google-api-core[grpc]<2.0.0dev,>=1.14.0->google-cloud-language) (1.12.0)\n",
      "Requirement already satisfied, skipping upgrade: googleapis-common-protos<2.0dev,>=1.6.0 in c:\\users\\breadwards\\anaconda3\\lib\\site-packages (from google-api-core[grpc]<2.0.0dev,>=1.14.0->google-cloud-language) (1.6.0)\n",
      "Requirement already satisfied, skipping upgrade: requests<3.0.0dev,>=2.18.0 in c:\\users\\breadwards\\anaconda3\\lib\\site-packages (from google-api-core[grpc]<2.0.0dev,>=1.14.0->google-cloud-language) (2.21.0)\n",
      "Requirement already satisfied, skipping upgrade: setuptools>=34.0.0 in c:\\users\\breadwards\\anaconda3\\lib\\site-packages (from google-api-core[grpc]<2.0.0dev,>=1.14.0->google-cloud-language) (40.8.0)\n",
      "Requirement already satisfied, skipping upgrade: protobuf>=3.4.0 in c:\\users\\breadwards\\anaconda3\\lib\\site-packages (from google-api-core[grpc]<2.0.0dev,>=1.14.0->google-cloud-language) (3.9.1)\n",
      "Requirement already satisfied, skipping upgrade: grpcio<2.0dev,>=1.8.2; extra == \"grpc\" in c:\\users\\breadwards\\anaconda3\\lib\\site-packages (from google-api-core[grpc]<2.0.0dev,>=1.14.0->google-cloud-language) (1.23.0)\n",
      "Requirement already satisfied, skipping upgrade: rsa>=3.1.4 in c:\\users\\breadwards\\anaconda3\\lib\\site-packages (from google-auth<2.0dev,>=0.4.0->google-api-core[grpc]<2.0.0dev,>=1.14.0->google-cloud-language) (4.0)\n",
      "Requirement already satisfied, skipping upgrade: cachetools>=2.0.0 in c:\\users\\breadwards\\anaconda3\\lib\\site-packages (from google-auth<2.0dev,>=0.4.0->google-api-core[grpc]<2.0.0dev,>=1.14.0->google-cloud-language) (3.1.1)\n",
      "Requirement already satisfied, skipping upgrade: pyasn1-modules>=0.2.1 in c:\\users\\breadwards\\anaconda3\\lib\\site-packages (from google-auth<2.0dev,>=0.4.0->google-api-core[grpc]<2.0.0dev,>=1.14.0->google-cloud-language) (0.2.6)\n",
      "Requirement already satisfied, skipping upgrade: idna<2.9,>=2.5 in c:\\users\\breadwards\\anaconda3\\lib\\site-packages (from requests<3.0.0dev,>=2.18.0->google-api-core[grpc]<2.0.0dev,>=1.14.0->google-cloud-language) (2.8)\n",
      "Requirement already satisfied, skipping upgrade: certifi>=2017.4.17 in c:\\users\\breadwards\\anaconda3\\lib\\site-packages (from requests<3.0.0dev,>=2.18.0->google-api-core[grpc]<2.0.0dev,>=1.14.0->google-cloud-language) (2019.3.9)\n",
      "Requirement already satisfied, skipping upgrade: chardet<3.1.0,>=3.0.2 in c:\\users\\breadwards\\anaconda3\\lib\\site-packages (from requests<3.0.0dev,>=2.18.0->google-api-core[grpc]<2.0.0dev,>=1.14.0->google-cloud-language) (3.0.4)\n",
      "Requirement already satisfied, skipping upgrade: urllib3<1.25,>=1.21.1 in c:\\users\\breadwards\\anaconda3\\lib\\site-packages (from requests<3.0.0dev,>=2.18.0->google-api-core[grpc]<2.0.0dev,>=1.14.0->google-cloud-language) (1.24.1)\n",
      "Requirement already satisfied, skipping upgrade: pyasn1>=0.1.3 in c:\\users\\breadwards\\anaconda3\\lib\\site-packages (from rsa>=3.1.4->google-auth<2.0dev,>=0.4.0->google-api-core[grpc]<2.0.0dev,>=1.14.0->google-cloud-language) (0.4.7)\n",
      "Note: you may need to restart the kernel to use updated packages.\n"
     ]
    }
   ],
   "source": [
    "pip install --upgrade google-cloud-language"
   ]
  },
  {
   "cell_type": "code",
   "execution_count": 63,
   "metadata": {},
   "outputs": [],
   "source": []
  },
  {
   "cell_type": "code",
   "execution_count": 73,
   "metadata": {},
   "outputs": [
    {
     "name": "stdout",
     "output_type": "stream",
     "text": [
      "Text: I really want to go on the helicopter! I hate everything. Why is everything awful? Kill myself.\n",
      "Sentiment: -0.20000000298023224, 2.5\n"
     ]
    }
   ],
   "source": [
    "# Imports the Google Cloud client library\n",
    "from google.cloud import language\n",
    "from google.cloud.language import enums\n",
    "from google.cloud.language import types\n",
    "\n",
    "# Instantiates a client\n",
    "client = language.LanguageServiceClient.from_service_account_json('htn2019-f059d4b46f7d.json')\n",
    "\n",
    "# The text to analyze\n",
    "text = u'I really want to go on the helicopter! I hate everything. Why is everything awful? Kill myself.'\n",
    "document = types.Document(\n",
    "    content=text,\n",
    "    type=enums.Document.Type.PLAIN_TEXT)\n",
    "\n",
    "# Detects the sentiment of the text\n",
    "sentiment = client.analyze_sentiment(document=document).document_sentiment\n",
    "\n",
    "print('Text: {}'.format(text))\n",
    "print('Sentiment: {}, {}'.format(sentiment.score, sentiment.magnitude))"
   ]
  },
  {
   "cell_type": "code",
   "execution_count": null,
   "metadata": {},
   "outputs": [],
   "source": []
  }
 ],
 "metadata": {
  "kernelspec": {
   "display_name": "Python 3",
   "language": "python",
   "name": "python3"
  },
  "language_info": {
   "codemirror_mode": {
    "name": "ipython",
    "version": 3
   },
   "file_extension": ".py",
   "mimetype": "text/x-python",
   "name": "python",
   "nbconvert_exporter": "python",
   "pygments_lexer": "ipython3",
   "version": "3.7.3"
  }
 },
 "nbformat": 4,
 "nbformat_minor": 2
}
