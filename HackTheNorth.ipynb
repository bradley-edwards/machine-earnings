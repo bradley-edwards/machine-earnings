{
 "cells": [
  {
   "cell_type": "code",
   "execution_count": null,
   "metadata": {},
   "outputs": [],
   "source": [
    "pip install newsapi-python"
   ]
  },
  {
   "cell_type": "code",
   "execution_count": null,
   "metadata": {},
   "outputs": [],
   "source": [
    "from newsapi import NewsApiClient\n",
    "\n",
    "# Init\n",
    "newsapi = NewsApiClient(api_key='a93fd9a824b848bca3436e761c5a0d4d')\n",
    "\n",
    "# /v2/everything\n",
    "all_articles = newsapi.get_everything(q='USD', from_param='2019-08-15', to='2019-09-13', language='en', sort_by='relevancy')\n",
    "articles = all_articles['articles']\n",
    "formatted_articles = []\n",
    "for article in articles:\n",
    "     article_arr = []\n",
    "     article_arr.append(article['publishedAt'][:10])\n",
    "     info = str(article['title']) + \" \" + str(article['description']) + \" \" + str(article['content'])\n",
    "     info_stripped = info.replace(\"'\", \"\")\n",
    "     article_arr.append(info_stripped)\n",
    "     formatted_articles.append(article_arr)\n",
    "print(formatted_articles)"
   ]
  },
  {
   "cell_type": "code",
   "execution_count": null,
   "metadata": {},
   "outputs": [],
   "source": [
    "pip install --upgrade virtualenv"
   ]
  },
  {
   "cell_type": "code",
   "execution_count": null,
   "metadata": {},
   "outputs": [],
   "source": [
    "pip install --upgrade google-cloud-language"
   ]
  },
  {
   "cell_type": "code",
   "execution_count": null,
   "metadata": {},
   "outputs": [],
   "source": []
  },
  {
   "cell_type": "code",
   "execution_count": null,
   "metadata": {},
   "outputs": [],
   "source": [
    "# Imports the Google Cloud client library\n",
    "from google.cloud import language\n",
    "from google.cloud.language import enums\n",
    "from google.cloud.language import types\n",
    "\n",
    "# Instantiates a client\n",
    "client = language.LanguageServiceClient.from_service_account_json('htn2019-f059d4b46f7d.json')\n",
    "\n",
    "#formatted_articles is of the form [[date_str, text_str], [date_str, text_str],....]\n",
    "results = []\n",
    "for textObj in formatted_articles:\n",
    "    date = textObj[0]\n",
    "    text = textObj[1]\n",
    "    document = types.Document(\n",
    "    content=text,\n",
    "    type=enums.Document.Type.PLAIN_TEXT)\n",
    "    # Detects the sentiment of the text\n",
    "    sentiment = client.analyze_sentiment(document=document).document_sentiment\n",
    "    result['date'] = date\n",
    "    result['score'] = sentiment.score\n",
    "    results.append(result)\n",
    "print(results)\n",
    "#         print('Text: {}'.format(text))\n",
    "#         print('Sentiment: {}, {}'.format(sentiment.score, sentiment.magnitude))"
   ]
  },
  {
   "cell_type": "code",
   "execution_count": null,
   "metadata": {},
   "outputs": [],
   "source": [
    "pip install xecd-rates-client"
   ]
  },
  {
   "cell_type": "code",
   "execution_count": null,
   "metadata": {},
   "outputs": [],
   "source": [
    "from xecd_rates_client import XecdClient\n",
    "xecd = XecdClient('xe891090202', '8ht3qjhq8vnu0dbb91ai40p44b')\n",
    "\n",
    "def getRate(date, fromCur, toCur):\n",
    "    rateResult = xecd.historic_rate(date, \"12:00\", fromCur, toCur, 1)\n",
    "    rateObj={}\n",
    "    rateObj['date'] = rateResult['timestamp'][:10]\n",
    "    rateObj['rate'] = rateResult['to'][0]['mid']\n",
    "    return rateObj['rate']\n",
    "\n"
   ]
  },
  {
   "cell_type": "code",
   "execution_count": null,
   "metadata": {},
   "outputs": [],
   "source": [
    "getRate('2019-09-09', 'CAD', 'USD')"
   ]
  },
  {
   "cell_type": "code",
   "execution_count": null,
   "metadata": {},
   "outputs": [],
   "source": []
  }
 ],
 "metadata": {
  "kernelspec": {
   "display_name": "Python 3",
   "language": "python",
   "name": "python3"
  },
  "language_info": {
   "codemirror_mode": {
    "name": "ipython",
    "version": 3
   },
   "file_extension": ".py",
   "mimetype": "text/x-python",
   "name": "python",
   "nbconvert_exporter": "python",
   "pygments_lexer": "ipython3",
   "version": "3.7.3"
  }
 },
 "nbformat": 4,
 "nbformat_minor": 2
}
