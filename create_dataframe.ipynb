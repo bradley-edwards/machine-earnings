{
 "cells": [
  {
   "cell_type": "code",
   "execution_count": null,
   "metadata": {},
   "outputs": [],
   "source": [
    "import json\n",
    "import pandas as pd\n",
    "\n",
    "import argparse\n",
    "import io\n",
    "import os\n",
    "from datetime import date\n",
    "# Imports the Google News api\n",
    "from newsapi import NewsApiClient\n",
    "\n",
    "# Imports the Google Cloud client library\n",
    "from google.cloud import language\n",
    "from google.cloud.language import enums\n",
    "from google.cloud.language import types\n"
   ]
  },
  {
   "cell_type": "code",
   "execution_count": null,
   "metadata": {},
   "outputs": [],
   "source": [
    "class create_df:\n",
    "    def __init__(self, cur_original, cur_new, news_api_key, json_google_cloud):\n",
    "        self.original = cur_original\n",
    "        self.new = cur_new\n",
    "        self.newsapi = NewsApiClient(api_key=news_api_key)\n",
    "        self.client = language.LanguageServiceClient.from_service_account_json(json_google_cloud)\n",
    "        \n",
    "        \n",
    "    # classify text into categories   \n",
    "    def classify(self, text):\n",
    "        client = self.client\n",
    "        document = language.types.Document(content=text, type=language.enums.Document.Type.PLAIN_TEXT)\n",
    "        response = client.classify_text(document)\n",
    "        categories = response.categories\n",
    "\n",
    "        result = {}\n",
    "\n",
    "        for category in categories:\n",
    "            categories = category.name.split(\"/\")\n",
    "            categories.pop(0)\n",
    "            for i in range(len(categories)):\n",
    "                result[categories[i]] = category.confidence\n",
    "\n",
    "        return result\n",
    "    \n",
    "    \n",
    "    # retrieve articles from google news api\n",
    "    def retrieve_articles(self):\n",
    "        today = date.today().strftime(\"%Y/%m/%d\").replace(\"/\",\"-\")\n",
    "        # grabbing articles\n",
    "        newsapi = self.newsapi\n",
    "        \n",
    "        all_articles = newsapi.get_everything(q=self.original, from_param='2019-08-15', to=today, language='en', sort_by='relevancy')\n",
    "        articles = all_articles['articles']\n",
    "        \n",
    "        formatted_articles = []\n",
    "\n",
    "        # creating new article object\n",
    "        for article in articles:\n",
    "            info = str(article['title']) + \" \" + str(article['description']) + \" \" + str(article['content'])\n",
    "            classifications = self.classify(info)\n",
    "            if classifications:\n",
    "                individual_article = {}\n",
    "                # just the date\n",
    "                # print(article['publishedAt'][:10])\n",
    "                individual_article['date'] = article['publishedAt']\n",
    "\n",
    "                info = info.replace(\"'\",\"\") \n",
    "                individual_article['text'] = info\n",
    "\n",
    "                formatted_articles.append(individual_article)\n",
    "                \n",
    "        self.formatted_articles = formatted_articles\n",
    "#         print(json.dumps(self.formatted_articles, indent=4, sort_keys=True))\n",
    "        return\n",
    "    \n",
    "    \n",
    "    # Sentiment analysis using google cloud\n",
    "    def sentiment_analysis(self):\n",
    "        client = self.client\n",
    "        tone_analyzed_articles = []\n",
    "        formatted_articles = self.formatted_articles.copy()\n",
    "\n",
    "        # The text to analyze\n",
    "        for i in range(len(formatted_articles)):\n",
    "            analyzed_article = {}\n",
    "            article = formatted_articles[i]\n",
    "            text = article['text']\n",
    "\n",
    "            document = types.Document(content = text, type = enums.Document.Type.PLAIN_TEXT)\n",
    "\n",
    "            # Detects the sentiment of the text\n",
    "            sentiment = client.analyze_sentiment(document=document).document_sentiment\n",
    "\n",
    "            analyzed_article['date'] = article['date']\n",
    "            analyzed_article['score'] = sentiment.score\n",
    "            analyzed_article['magnitude'] = sentiment.magnitude\n",
    "\n",
    "            tone_analyzed_articles.append(analyzed_article)\n",
    "\n",
    "        print(json.dumps(tone_analyzed_articles, indent=4, sort_keys=True))\n",
    "\n",
    "        #     print('Text: {}'.format(text))\n",
    "        #     print('Sentiment: {}, {}'.format(, sentiment.magnitude))\n",
    "        \n",
    "        \n",
    "    def df_append(self):\n",
    "        self.retrieve_articles()\n",
    "        self.sentiment_analysis()"
   ]
  },
  {
   "cell_type": "markdown",
   "metadata": {},
   "source": [
    "## Input Parameter"
   ]
  },
  {
   "cell_type": "code",
   "execution_count": null,
   "metadata": {},
   "outputs": [],
   "source": [
    "news_api_key = 'a93fd9a824b848bca3436e761c5a0d4d'\n",
    "json_google_cloud = 'htn2019-f059d4b46f7d.json'"
   ]
  },
  {
   "cell_type": "code",
   "execution_count": null,
   "metadata": {},
   "outputs": [],
   "source": [
    "print(\"Enter the original currency: \")\n",
    "# cur_original = input()\n",
    "print(\"Enter the new currency: \")\n",
    "# cur_return = input()"
   ]
  },
  {
   "cell_type": "code",
   "execution_count": null,
   "metadata": {},
   "outputs": [],
   "source": [
    "cur_original = 'CAD'\n",
    "cur_return = 'USD'"
   ]
  },
  {
   "cell_type": "markdown",
   "metadata": {},
   "source": [
    "## Create Dataframe"
   ]
  },
  {
   "cell_type": "code",
   "execution_count": null,
   "metadata": {},
   "outputs": [],
   "source": [
    "df = create_df(cur_original, cur_return, news_api_key, json_google_cloud)\n",
    "df.df_append()"
   ]
  }
 ],
 "metadata": {
  "kernelspec": {
   "display_name": "Python 3",
   "language": "python",
   "name": "python3"
  },
  "language_info": {
   "codemirror_mode": {
    "name": "ipython",
    "version": 3
   },
   "file_extension": ".py",
   "mimetype": "text/x-python",
   "name": "python",
   "nbconvert_exporter": "python",
   "pygments_lexer": "ipython3",
   "version": "3.7.3"
  }
 },
 "nbformat": 4,
 "nbformat_minor": 2
}
