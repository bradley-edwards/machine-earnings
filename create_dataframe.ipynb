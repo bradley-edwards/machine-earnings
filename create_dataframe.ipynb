{
 "cells": [
  {
   "cell_type": "code",
   "execution_count": 1,
   "metadata": {},
   "outputs": [],
   "source": [
    "import json\n",
    "import pandas as pd\n",
    "\n",
    "import argparse\n",
    "import io\n",
    "import os\n",
    "from datetime import date\n",
    "# Imports the Google News api\n",
    "from newsapi import NewsApiClient\n",
    "\n",
    "# Imports the Google Cloud client library\n",
    "from google.cloud import language\n",
    "from google.cloud.language import enums\n",
    "from google.cloud.language import types\n"
   ]
  },
  {
   "cell_type": "markdown",
   "metadata": {},
   "source": [
    "# Functions"
   ]
  },
  {
   "cell_type": "code",
   "execution_count": 2,
   "metadata": {},
   "outputs": [],
   "source": [
    "def classify(text):\n",
    "    language_client = language.LanguageServiceClient.from_service_account_json('htn2019-f059d4b46f7d.json')\n",
    "    document = language.types.Document(content=text, type=language.enums.Document.Type.PLAIN_TEXT)\n",
    "    response = language_client.classify_text(document)\n",
    "    categories = response.categories\n",
    "\n",
    "    result = {}\n",
    "\n",
    "    for category in categories:\n",
    "        categories = category.name.split(\"/\")\n",
    "        categories.pop(0)\n",
    "        for i in range(len(categories)):\n",
    "            result[categories[i]] = category.confidence\n",
    "\n",
    "    return result"
   ]
  },
  {
   "cell_type": "markdown",
   "metadata": {},
   "source": [
    "## Input Parameter"
   ]
  },
  {
   "cell_type": "code",
   "execution_count": 3,
   "metadata": {},
   "outputs": [
    {
     "name": "stdout",
     "output_type": "stream",
     "text": [
      "Enter the original currency: \n",
      "Enter the new currency: \n"
     ]
    }
   ],
   "source": [
    "print(\"Enter the original currency: \")\n",
    "# original = input()\n",
    "print(\"Enter the new currency: \")\n",
    "# return = input()"
   ]
  },
  {
   "cell_type": "code",
   "execution_count": 4,
   "metadata": {},
   "outputs": [],
   "source": [
    "original = 'CAD'"
   ]
  },
  {
   "cell_type": "markdown",
   "metadata": {},
   "source": [
    "## Article Retrieval "
   ]
  },
  {
   "cell_type": "code",
   "execution_count": 5,
   "metadata": {},
   "outputs": [],
   "source": [
    "newsapi = NewsApiClient(api_key='a93fd9a824b848bca3436e761c5a0d4d')"
   ]
  },
  {
   "cell_type": "code",
   "execution_count": 6,
   "metadata": {},
   "outputs": [],
   "source": [
    "today = date.today().strftime(\"%Y/%m/%d\").replace(\"/\",\"-\")\n",
    "\n",
    "# grabbing articles\n",
    "all_articles = newsapi.get_everything(q=original, from_param='2019-08-15', to=today, language='en', sort_by='relevancy')\n",
    "articles = all_articles['articles']"
   ]
  },
  {
   "cell_type": "code",
   "execution_count": 7,
   "metadata": {},
   "outputs": [
    {
     "name": "stdout",
     "output_type": "stream",
     "text": [
      "{'Computers & Electronics': 0.8700000047683716, 'Consumer Electronics': 0.8700000047683716, 'Internet & Telecom': 0.7200000286102295, 'Mobile & Wireless': 0.7200000286102295, 'Mobile Phones': 0.7200000286102295}\n",
      "\n",
      "{'Finance': 0.8899999856948853, 'Investing': 0.8899999856948853, 'Currencies & Foreign Exchange': 0.8899999856948853}\n",
      "\n",
      "{'Computers & Electronics': 0.8799999952316284, 'Consumer Electronics': 0.8799999952316284, 'Internet & Telecom': 0.8399999737739563, 'Mobile & Wireless': 0.8399999737739563, 'Mobile Phones': 0.8399999737739563}\n",
      "\n",
      "{'Computers & Electronics': 0.9900000095367432, 'Consumer Electronics': 0.9900000095367432, 'Game Systems & Consoles': 0.9900000095367432, 'Games': 0.9900000095367432, 'Computer & Video Games': 0.9900000095367432}\n",
      "\n",
      "{'Arts & Entertainment': 0.6600000262260437, 'Visual Art & Design': 0.6600000262260437}\n",
      "\n",
      "{'Computers & Electronics': 0.6800000071525574}\n",
      "\n",
      "{'Computers & Electronics': 0.550000011920929, 'Computer Hardware': 0.550000011920929, 'Computer Peripherals': 0.550000011920929}\n",
      "\n",
      "{'Hobbies & Leisure': 0.5400000214576721, 'Radio Control & Modeling': 0.5400000214576721, 'Arts & Entertainment': 0.5199999809265137}\n",
      "\n",
      "{'Computers & Electronics': 0.9399999976158142, 'Consumer Electronics': 0.9399999976158142, 'Internet & Telecom': 0.9200000166893005, 'Mobile & Wireless': 0.9200000166893005, 'Mobile Phones': 0.9200000166893005}\n",
      "\n",
      "{'Computers & Electronics': 0.9200000166893005, 'Consumer Electronics': 0.9200000166893005, 'Internet & Telecom': 0.8899999856948853, 'Mobile & Wireless': 0.8899999856948853, 'Mobile Phones': 0.8899999856948853}\n",
      "\n",
      "{'Computers & Electronics': 0.8999999761581421, 'Computer Hardware': 0.8999999761581421, 'Computer Peripherals': 0.8999999761581421, 'Business & Industrial': 0.8799999952316284, 'Business Services': 0.8799999952316284, 'Office Supplies': 0.8799999952316284}\n",
      "\n",
      "{'News': 0.8500000238418579, 'Business & Industrial': 0.8199999928474426, 'Science': 0.6200000047683716, 'Engineering & Technology': 0.6200000047683716, 'Arts & Entertainment': 0.6000000238418579}\n",
      "\n",
      "{'Business & Industrial': 0.6399999856948853}\n",
      "\n",
      "{'Computers & Electronics': 0.5699999928474426, 'Consumer Electronics': 0.5699999928474426, 'Camera & Photo Equipment': 0.5699999928474426}\n",
      "\n",
      "{'Computers & Electronics': 0.9700000286102295, 'Consumer Electronics': 0.9700000286102295, 'Internet & Telecom': 0.9700000286102295, 'Mobile & Wireless': 0.9700000286102295, 'Mobile Phones': 0.9700000286102295}\n",
      "\n",
      "{'Business & Industrial': 0.5299999713897705}\n",
      "\n",
      "{'Health': 0.9900000095367432, 'Health Conditions': 0.9900000095367432, 'Cancer': 0.9900000095367432}\n",
      "\n",
      "{'Health': 0.9900000095367432, 'Health Conditions': 0.9900000095367432, 'Cancer': 0.9900000095367432}\n",
      "\n",
      "{'Law & Government': 0.9300000071525574, 'Public Safety': 0.9300000071525574, 'Security Products & Services': 0.9300000071525574}\n",
      "\n",
      "{'Health': 0.7699999809265137, 'Health Conditions': 0.7699999809265137}\n",
      "\n"
     ]
    }
   ],
   "source": [
    "formatted_articles = []\n",
    "\n",
    "# creating new article object\n",
    "for article in articles:\n",
    "    info = str(article['title']) + \" \" + str(article['description']) + \" \" + str(article['content'])\n",
    "    classifications = classify(info)\n",
    "    print(classifications)\n",
    "    print()\n",
    "#     print(classifications)\n",
    "    if classifications:\n",
    "        individual_article = {}\n",
    "        # just the date\n",
    "        # print(article['publishedAt'][:10])\n",
    "        individual_article['date'] = article['publishedAt']\n",
    "\n",
    "        info = info.replace(\"'\",\"\") \n",
    "        individual_article['text'] = info\n",
    "\n",
    "        formatted_articles.append(individual_article)\n"
   ]
  },
  {
   "cell_type": "markdown",
   "metadata": {},
   "source": [
    "## Sentiment Analysis (Tone Analyzer)"
   ]
  },
  {
   "cell_type": "code",
   "execution_count": 8,
   "metadata": {},
   "outputs": [],
   "source": [
    "client = language.LanguageServiceClient.from_service_account_json('htn2019-f059d4b46f7d.json')"
   ]
  },
  {
   "cell_type": "code",
   "execution_count": 9,
   "metadata": {},
   "outputs": [
    {
     "name": "stdout",
     "output_type": "stream",
     "text": [
      "[\n",
      "    {\n",
      "        \"date\": \"2019-08-26T07:26:03Z\",\n",
      "        \"magnitude\": 1.0,\n",
      "        \"score\": 0.10000000149011612\n",
      "    },\n",
      "    {\n",
      "        \"date\": \"2019-08-20T08:58:47Z\",\n",
      "        \"magnitude\": 2.5999999046325684,\n",
      "        \"score\": -0.4000000059604645\n",
      "    },\n",
      "    {\n",
      "        \"date\": \"2019-09-04T12:56:11Z\",\n",
      "        \"magnitude\": 1.5,\n",
      "        \"score\": 0.0\n",
      "    },\n",
      "    {\n",
      "        \"date\": \"2019-08-15T22:50:28Z\",\n",
      "        \"magnitude\": 1.100000023841858,\n",
      "        \"score\": 0.20000000298023224\n",
      "    },\n",
      "    {\n",
      "        \"date\": \"2019-09-12T14:00:44Z\",\n",
      "        \"magnitude\": 2.0,\n",
      "        \"score\": 0.20000000298023224\n",
      "    },\n",
      "    {\n",
      "        \"date\": \"2019-08-27T23:00:30Z\",\n",
      "        \"magnitude\": 1.5,\n",
      "        \"score\": -0.20000000298023224\n",
      "    },\n",
      "    {\n",
      "        \"date\": \"2019-09-05T17:01:48Z\",\n",
      "        \"magnitude\": 2.5,\n",
      "        \"score\": 0.20000000298023224\n",
      "    },\n",
      "    {\n",
      "        \"date\": \"2019-09-06T16:01:56Z\",\n",
      "        \"magnitude\": 2.5,\n",
      "        \"score\": 0.6000000238418579\n",
      "    },\n",
      "    {\n",
      "        \"date\": \"2019-09-12T13:20:51Z\",\n",
      "        \"magnitude\": 2.9000000953674316,\n",
      "        \"score\": 0.10000000149011612\n",
      "    },\n",
      "    {\n",
      "        \"date\": \"2019-08-29T11:11:58Z\",\n",
      "        \"magnitude\": 2.299999952316284,\n",
      "        \"score\": 0.0\n",
      "    },\n",
      "    {\n",
      "        \"date\": \"2019-08-23T17:04:11Z\",\n",
      "        \"magnitude\": 4.099999904632568,\n",
      "        \"score\": 0.800000011920929\n",
      "    },\n",
      "    {\n",
      "        \"date\": \"2019-08-29T13:40:16Z\",\n",
      "        \"magnitude\": 1.2000000476837158,\n",
      "        \"score\": 0.0\n",
      "    },\n",
      "    {\n",
      "        \"date\": \"2019-08-22T20:16:30Z\",\n",
      "        \"magnitude\": 1.2999999523162842,\n",
      "        \"score\": 0.0\n",
      "    },\n",
      "    {\n",
      "        \"date\": \"2019-08-28T06:19:48Z\",\n",
      "        \"magnitude\": 3.5,\n",
      "        \"score\": -0.10000000149011612\n",
      "    },\n",
      "    {\n",
      "        \"date\": \"2019-09-12T14:30:00Z\",\n",
      "        \"magnitude\": 0.5,\n",
      "        \"score\": 0.0\n",
      "    },\n",
      "    {\n",
      "        \"date\": \"2019-09-13T11:01:20Z\",\n",
      "        \"magnitude\": 0.10000000149011612,\n",
      "        \"score\": 0.0\n",
      "    },\n",
      "    {\n",
      "        \"date\": \"2019-09-04T00:00:00Z\",\n",
      "        \"magnitude\": 1.7000000476837158,\n",
      "        \"score\": 0.0\n",
      "    },\n",
      "    {\n",
      "        \"date\": \"2019-09-04T00:00:00Z\",\n",
      "        \"magnitude\": 1.7000000476837158,\n",
      "        \"score\": 0.0\n",
      "    },\n",
      "    {\n",
      "        \"date\": \"2019-08-19T21:00:00Z\",\n",
      "        \"magnitude\": 0.699999988079071,\n",
      "        \"score\": 0.0\n",
      "    },\n",
      "    {\n",
      "        \"date\": \"2019-09-02T22:16:02Z\",\n",
      "        \"magnitude\": 0.4000000059604645,\n",
      "        \"score\": 0.0\n",
      "    }\n",
      "]\n"
     ]
    }
   ],
   "source": [
    "tone_analyzed_articles = []\n",
    "\n",
    "# The text to analyze\n",
    "for i in range(len(formatted_articles)):\n",
    "    analyzed_article = {}\n",
    "    article = formatted_articles[i]\n",
    "    text = article['text']\n",
    "    \n",
    "    document = types.Document(content = text, type = enums.Document.Type.PLAIN_TEXT)\n",
    "    \n",
    "    # Detects the sentiment of the text\n",
    "    sentiment = client.analyze_sentiment(document=document).document_sentiment\n",
    "    \n",
    "    analyzed_article['date'] = article['date']\n",
    "    analyzed_article['score'] = sentiment.score\n",
    "    analyzed_article['magnitude'] = sentiment.magnitude\n",
    "    \n",
    "    tone_analyzed_articles.append(analyzed_article)\n",
    "\n",
    "print(json.dumps(tone_analyzed_articles, indent=4, sort_keys=True))\n",
    "\n",
    "#     print('Text: {}'.format(text))\n",
    "#     print('Sentiment: {}, {}'.format(, sentiment.magnitude))"
   ]
  },
  {
   "cell_type": "code",
   "execution_count": null,
   "metadata": {},
   "outputs": [],
   "source": []
  }
 ],
 "metadata": {
  "kernelspec": {
   "display_name": "Python 3",
   "language": "python",
   "name": "python3"
  },
  "language_info": {
   "codemirror_mode": {
    "name": "ipython",
    "version": 3
   },
   "file_extension": ".py",
   "mimetype": "text/x-python",
   "name": "python",
   "nbconvert_exporter": "python",
   "pygments_lexer": "ipython3",
   "version": "3.7.3"
  }
 },
 "nbformat": 4,
 "nbformat_minor": 2
}
