{
 "cells": [
  {
   "cell_type": "code",
   "execution_count": 1,
   "metadata": {},
   "outputs": [],
   "source": [
    "from keys import keys\n",
    "\n",
    "import json\n",
    "import pandas as pd\n",
    "import argparse\n",
    "import io\n",
    "import os\n",
    "from datetime import date\n",
    "\n",
    "# XE api\n",
    "from xecd_rates_client import XecdClient\n",
    "\n",
    "# Google News api\n",
    "from newsapi import NewsApiClient\n",
    "\n",
    "# Google Cloud client library api\n",
    "from google.cloud import language\n",
    "from google.cloud.language import enums\n",
    "from google.cloud.language import types\n"
   ]
  },
  {
   "cell_type": "code",
   "execution_count": 2,
   "metadata": {},
   "outputs": [],
   "source": [
    "class Create_DF:\n",
    "    def __init__(self, cur_original, cur_new, news_api_key, json_google_cloud, xecd_client):\n",
    "        self.today = date.today().strftime(\"%Y/%m/%d\").replace(\"/\",\"-\")\n",
    "        self.original = cur_original\n",
    "        self.new = cur_new\n",
    "        self.newsapi = NewsApiClient(api_key=news_api_key)\n",
    "        self.client = language.LanguageServiceClient.from_service_account_json(json_google_cloud)\n",
    "        self.xecd = xecd_client\n",
    "        self.approved_classifications = [\n",
    "            'Finance',\n",
    "            'Business',\n",
    "            'Politics',\n",
    "            'Jobs & Education',\n",
    "            'Business News',\n",
    "            'Business & Industrial',\n",
    "        ]\n",
    "        \n",
    "        \n",
    "    # classify text into categories   \n",
    "    def __classify(self, text):\n",
    "        client = self.client\n",
    "        document = language.types.Document(content=text, type=language.enums.Document.Type.PLAIN_TEXT)\n",
    "        response = client.classify_text(document)\n",
    "        categories = response.categories\n",
    "\n",
    "        result = []\n",
    "\n",
    "        for category in categories:\n",
    "            categories = category.name.split(\"/\")\n",
    "            categories.pop(0)\n",
    "            for i in range(len(categories)):\n",
    "                result.append(categories[i])\n",
    "        return result\n",
    "    \n",
    "    def __getRate(self, date, fromCur, toCur):\n",
    "        xecd = self.xecd\n",
    "        rateResult = xecd.historic_rate(date, \"12:00\", fromCur, toCur, 1)\n",
    "        rateObj={}\n",
    "        rateObj['date'] = rateResult['timestamp'][:10]\n",
    "        rateObj['rate'] = rateResult['to'][0]['mid']\n",
    "        return rateObj['rate']\n",
    "    \n",
    "    \n",
    "    # retrieve articles from google news api\n",
    "    def __retrieve_articles(self):\n",
    "        today = self.today\n",
    "        # grabbing articles\n",
    "        newsapi = self.newsapi\n",
    "        \n",
    "        all_articles = newsapi.get_everything(q=self.original, from_param='2019-08-15', to=today, language='en', sort_by='relevancy')\n",
    "        articles = all_articles['articles']\n",
    "        \n",
    "        formatted_articles = []\n",
    "\n",
    "        # creating new article object\n",
    "        for article in articles:\n",
    "            info = str(article['title']) + \" \" + str(article['description']) + \" \" + str(article['content'])\n",
    "            classifications = self.__classify(info)\n",
    "            if len(set(classifications).intersection(set(self.approved_classifications))) != 0:\n",
    "                individual_article = {}\n",
    "                individual_article['date'] = article['publishedAt'][:10]\n",
    "\n",
    "                info = info.replace(\"'\",\"\") \n",
    "                individual_article['text'] = info\n",
    "\n",
    "                formatted_articles.append(individual_article)\n",
    "                \n",
    "        self.formatted_articles = formatted_articles\n",
    "#         print(json.dumps(self.formatted_articles, indent=4, sort_keys=True))\n",
    "        return\n",
    "    \n",
    "    \n",
    "    # Sentiment analysis using google cloud\n",
    "    def __sentiment_analysis(self):\n",
    "        client = self.client\n",
    "        tone_analyzed_articles = {'date':[],'score':[]}\n",
    "        formatted_articles = self.formatted_articles.copy()\n",
    "\n",
    "        # The text to analyze\n",
    "        for i in range(len(formatted_articles)):\n",
    "            analyzed_article = {}\n",
    "            article = formatted_articles[i]\n",
    "            text = article['text']\n",
    "\n",
    "            document = types.Document(content = text, type = enums.Document.Type.PLAIN_TEXT)\n",
    "\n",
    "            # Detects the sentiment of the text\n",
    "            sentiment = client.analyze_sentiment(document=document).document_sentiment\n",
    "            \n",
    "            # Appends to dataframe\n",
    "            tone_analyzed_articles['date'].append(article['date'])\n",
    "            tone_analyzed_articles['score'].append(sentiment.score)\n",
    "        \n",
    "#         print(json.dumps(tone_analyzed_articles, indent=4, sort_keys=True))        \n",
    "        \n",
    "        return pd.DataFrame(tone_analyzed_articles)\n",
    "        \n",
    "    # Dump the dataframe\n",
    "    def __dump_df(self, df):\n",
    "        df.to_csv(r'data/articles/' + self.original + '.csv')\n",
    "        \n",
    "        \n",
    "    # Create the dataframe and save it\n",
    "    def df_create(self):\n",
    "        self.__retrieve_articles()\n",
    "        df = self.__sentiment_analysis()\n",
    "        self.__dump_df(df)\n",
    "        return df"
   ]
  },
  {
   "cell_type": "markdown",
   "metadata": {},
   "source": [
    "## Input Parameter"
   ]
  },
  {
   "cell_type": "code",
   "execution_count": 3,
   "metadata": {},
   "outputs": [],
   "source": [
    "news_api_key = keys['news']\n",
    "json_google_cloud = keys['json_google_cloud']\n",
    "xecd_client = keys['xe']"
   ]
  },
  {
   "cell_type": "code",
   "execution_count": 4,
   "metadata": {},
   "outputs": [
    {
     "name": "stdout",
     "output_type": "stream",
     "text": [
      "Enter the original currency: \n",
      "Enter the new currency: \n"
     ]
    }
   ],
   "source": [
    "print(\"Enter the original currency: \")\n",
    "# cur_original = input()\n",
    "print(\"Enter the new currency: \")\n",
    "# cur_return = input()"
   ]
  },
  {
   "cell_type": "code",
   "execution_count": 5,
   "metadata": {},
   "outputs": [],
   "source": [
    "cur_original = 'CAD'\n",
    "cur_return = 'USD'"
   ]
  },
  {
   "cell_type": "markdown",
   "metadata": {},
   "source": [
    "## Create Dataframe"
   ]
  },
  {
   "cell_type": "code",
   "execution_count": 6,
   "metadata": {},
   "outputs": [
    {
     "data": {
      "text/html": [
       "<div>\n",
       "<style scoped>\n",
       "    .dataframe tbody tr th:only-of-type {\n",
       "        vertical-align: middle;\n",
       "    }\n",
       "\n",
       "    .dataframe tbody tr th {\n",
       "        vertical-align: top;\n",
       "    }\n",
       "\n",
       "    .dataframe thead th {\n",
       "        text-align: right;\n",
       "    }\n",
       "</style>\n",
       "<table border=\"1\" class=\"dataframe\">\n",
       "  <thead>\n",
       "    <tr style=\"text-align: right;\">\n",
       "      <th></th>\n",
       "      <th>date</th>\n",
       "      <th>score</th>\n",
       "    </tr>\n",
       "  </thead>\n",
       "  <tbody>\n",
       "    <tr>\n",
       "      <th>0</th>\n",
       "      <td>2019-08-20</td>\n",
       "      <td>-0.4</td>\n",
       "    </tr>\n",
       "    <tr>\n",
       "      <th>1</th>\n",
       "      <td>2019-08-23</td>\n",
       "      <td>0.8</td>\n",
       "    </tr>\n",
       "    <tr>\n",
       "      <th>2</th>\n",
       "      <td>2019-08-29</td>\n",
       "      <td>0.0</td>\n",
       "    </tr>\n",
       "    <tr>\n",
       "      <th>3</th>\n",
       "      <td>2019-08-22</td>\n",
       "      <td>0.0</td>\n",
       "    </tr>\n",
       "    <tr>\n",
       "      <th>4</th>\n",
       "      <td>2019-09-13</td>\n",
       "      <td>0.0</td>\n",
       "    </tr>\n",
       "  </tbody>\n",
       "</table>\n",
       "</div>"
      ],
      "text/plain": [
       "         date  score\n",
       "0  2019-08-20   -0.4\n",
       "1  2019-08-23    0.8\n",
       "2  2019-08-29    0.0\n",
       "3  2019-08-22    0.0\n",
       "4  2019-09-13    0.0"
      ]
     },
     "execution_count": 6,
     "metadata": {},
     "output_type": "execute_result"
    }
   ],
   "source": [
    "created_df = Create_DF(cur_original, cur_return, news_api_key, json_google_cloud, xecd_client)\n",
    "df = created_df.df_create()\n",
    "df.head()"
   ]
  },
  {
   "cell_type": "code",
   "execution_count": null,
   "metadata": {},
   "outputs": [],
   "source": []
  },
  {
   "cell_type": "code",
   "execution_count": null,
   "metadata": {},
   "outputs": [],
   "source": []
  }
 ],
 "metadata": {
  "kernelspec": {
   "display_name": "Python 3",
   "language": "python",
   "name": "python3"
  },
  "language_info": {
   "codemirror_mode": {
    "name": "ipython",
    "version": 3
   },
   "file_extension": ".py",
   "mimetype": "text/x-python",
   "name": "python",
   "nbconvert_exporter": "python",
   "pygments_lexer": "ipython3",
   "version": "3.7.3"
  }
 },
 "nbformat": 4,
 "nbformat_minor": 2
}
